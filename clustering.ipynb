{
 "cells": [
  {
   "cell_type": "code",
   "execution_count": 1,
   "metadata": {},
   "outputs": [],
   "source": [
    "import pandas as pd\n",
    "import numpy as np\n",
    "import matplotlib.pyplot as plt\n",
    "import seaborn as sns\n",
    "from sklearn.preprocessing import LabelEncoder, OneHotEncoder\n",
    "from sklearn.decomposition import PCA\n",
    "from sklearn.preprocessing import StandardScaler"
   ]
  },
  {
   "cell_type": "code",
   "execution_count": 3,
   "metadata": {},
   "outputs": [
    {
     "data": {
      "text/html": [
       "<div>\n",
       "<style scoped>\n",
       "    .dataframe tbody tr th:only-of-type {\n",
       "        vertical-align: middle;\n",
       "    }\n",
       "\n",
       "    .dataframe tbody tr th {\n",
       "        vertical-align: top;\n",
       "    }\n",
       "\n",
       "    .dataframe thead th {\n",
       "        text-align: right;\n",
       "    }\n",
       "</style>\n",
       "<table border=\"1\" class=\"dataframe\">\n",
       "  <thead>\n",
       "    <tr style=\"text-align: right;\">\n",
       "      <th></th>\n",
       "      <th>age</th>\n",
       "      <th>sex</th>\n",
       "      <th>bmi</th>\n",
       "      <th>children</th>\n",
       "      <th>smoker</th>\n",
       "      <th>charges</th>\n",
       "      <th>northeast</th>\n",
       "      <th>northwest</th>\n",
       "      <th>southeast</th>\n",
       "      <th>southwest</th>\n",
       "    </tr>\n",
       "  </thead>\n",
       "  <tbody>\n",
       "    <tr>\n",
       "      <th>0</th>\n",
       "      <td>-1.440016</td>\n",
       "      <td>-1.010535</td>\n",
       "      <td>-0.453197</td>\n",
       "      <td>-0.909856</td>\n",
       "      <td>1.973265</td>\n",
       "      <td>0.298918</td>\n",
       "      <td>-0.565825</td>\n",
       "      <td>-0.565825</td>\n",
       "      <td>-0.610797</td>\n",
       "      <td>1.763737</td>\n",
       "    </tr>\n",
       "    <tr>\n",
       "      <th>1</th>\n",
       "      <td>-1.511283</td>\n",
       "      <td>0.989575</td>\n",
       "      <td>0.509049</td>\n",
       "      <td>-0.080117</td>\n",
       "      <td>-0.506774</td>\n",
       "      <td>-0.953656</td>\n",
       "      <td>-0.565825</td>\n",
       "      <td>-0.565825</td>\n",
       "      <td>1.637205</td>\n",
       "      <td>-0.566978</td>\n",
       "    </tr>\n",
       "    <tr>\n",
       "      <th>2</th>\n",
       "      <td>-0.798610</td>\n",
       "      <td>0.989575</td>\n",
       "      <td>0.382826</td>\n",
       "      <td>1.579361</td>\n",
       "      <td>-0.506774</td>\n",
       "      <td>-0.728588</td>\n",
       "      <td>-0.565825</td>\n",
       "      <td>-0.565825</td>\n",
       "      <td>1.637205</td>\n",
       "      <td>-0.566978</td>\n",
       "    </tr>\n",
       "    <tr>\n",
       "      <th>3</th>\n",
       "      <td>-0.442273</td>\n",
       "      <td>0.989575</td>\n",
       "      <td>-1.304793</td>\n",
       "      <td>-0.909856</td>\n",
       "      <td>-0.506774</td>\n",
       "      <td>0.720278</td>\n",
       "      <td>-0.565825</td>\n",
       "      <td>1.767330</td>\n",
       "      <td>-0.610797</td>\n",
       "      <td>-0.566978</td>\n",
       "    </tr>\n",
       "    <tr>\n",
       "      <th>4</th>\n",
       "      <td>-0.513541</td>\n",
       "      <td>0.989575</td>\n",
       "      <td>-0.292550</td>\n",
       "      <td>-0.909856</td>\n",
       "      <td>-0.506774</td>\n",
       "      <td>-0.776727</td>\n",
       "      <td>-0.565825</td>\n",
       "      <td>1.767330</td>\n",
       "      <td>-0.610797</td>\n",
       "      <td>-0.566978</td>\n",
       "    </tr>\n",
       "  </tbody>\n",
       "</table>\n",
       "</div>"
      ],
      "text/plain": [
       "        age       sex       bmi  children    smoker   charges  northeast  \\\n",
       "0 -1.440016 -1.010535 -0.453197 -0.909856  1.973265  0.298918  -0.565825   \n",
       "1 -1.511283  0.989575  0.509049 -0.080117 -0.506774 -0.953656  -0.565825   \n",
       "2 -0.798610  0.989575  0.382826  1.579361 -0.506774 -0.728588  -0.565825   \n",
       "3 -0.442273  0.989575 -1.304793 -0.909856 -0.506774  0.720278  -0.565825   \n",
       "4 -0.513541  0.989575 -0.292550 -0.909856 -0.506774 -0.776727  -0.565825   \n",
       "\n",
       "   northwest  southeast  southwest  \n",
       "0  -0.565825  -0.610797   1.763737  \n",
       "1  -0.565825   1.637205  -0.566978  \n",
       "2  -0.565825   1.637205  -0.566978  \n",
       "3   1.767330  -0.610797  -0.566978  \n",
       "4   1.767330  -0.610797  -0.566978  "
      ]
     },
     "execution_count": 3,
     "metadata": {},
     "output_type": "execute_result"
    }
   ],
   "source": [
    "df = pd.read_csv(\"data/medical_insurance_scaled.csv\", sep=\",\")\n",
    "df.head()"
   ]
  },
  {
   "cell_type": "code",
   "execution_count": 4,
   "metadata": {},
   "outputs": [
    {
     "data": {
      "text/plain": [
       "count    1.336000e+03\n",
       "mean    -9.041337e-17\n",
       "std      1.000374e+00\n",
       "min     -1.003536e+00\n",
       "25%     -7.042239e-01\n",
       "50%     -3.210239e-01\n",
       "75%      2.757309e-01\n",
       "max      4.172928e+00\n",
       "Name: charges, dtype: float64"
      ]
     },
     "execution_count": 4,
     "metadata": {},
     "output_type": "execute_result"
    }
   ],
   "source": [
    "df.charges.describe()"
   ]
  },
  {
   "cell_type": "code",
   "execution_count": null,
   "metadata": {},
   "outputs": [],
   "source": [
    "# On tente de target (charges qui a été s)"
   ]
  }
 ],
 "metadata": {
  "kernelspec": {
   "display_name": "SY09",
   "language": "python",
   "name": "python3"
  },
  "language_info": {
   "codemirror_mode": {
    "name": "ipython",
    "version": 3
   },
   "file_extension": ".py",
   "mimetype": "text/x-python",
   "name": "python",
   "nbconvert_exporter": "python",
   "pygments_lexer": "ipython3",
   "version": "3.12.2"
  }
 },
 "nbformat": 4,
 "nbformat_minor": 2
}

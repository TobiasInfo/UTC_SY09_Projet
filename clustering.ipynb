{
 "cells": [
  {
   "cell_type": "code",
   "execution_count": 1,
   "metadata": {},
   "outputs": [],
   "source": [
    "import pandas as pd\n",
    "import numpy as np\n",
    "import matplotlib.pyplot as plt\n",
    "import seaborn as sns\n",
    "from sklearn.preprocessing import LabelEncoder, OneHotEncoder"
   ]
  },
  {
   "cell_type": "code",
   "execution_count": 2,
   "metadata": {},
   "outputs": [],
   "source": [
    "df = pd.read_csv(\"data/medical_insurance.csv\", sep=\",\")\n",
    "df = df.drop_duplicates()"
   ]
  },
  {
   "cell_type": "code",
   "execution_count": 3,
   "metadata": {},
   "outputs": [],
   "source": [
    "le_smoker = LabelEncoder()\n",
    "df[\"smoker\"] = le_smoker.fit_transform(df[\"smoker\"])\n",
    "\n",
    "le_sex = LabelEncoder()\n",
    "df[\"sex\"] = le_sex.fit_transform(df[\"sex\"])\n",
    "\n",
    "oh_region = OneHotEncoder()\n",
    "encoded_region = oh_region.fit_transform(df[[\"region\"]])\n",
    "encoded_region = pd.DataFrame(encoded_region.toarray(), columns=[\"northeast\", \"northwest\", \"southeast\", \"southwest\"])\n",
    "df.drop(columns=[\"region\"], inplace=True)\n",
    "df = pd.merge(df, encoded_region, left_index=True, right_index=True)"
   ]
  },
  {
   "cell_type": "code",
   "execution_count": 4,
   "metadata": {},
   "outputs": [
    {
     "name": "stderr",
     "output_type": "stream",
     "text": [
      "c:\\Users\\sacha\\anaconda3\\envs\\SY09\\Lib\\site-packages\\seaborn\\_oldcore.py:1119: FutureWarning: use_inf_as_na option is deprecated and will be removed in a future version. Convert inf values to NaN before operating instead.\n",
      "  with pd.option_context('mode.use_inf_as_na', True):\n",
      "c:\\Users\\sacha\\anaconda3\\envs\\SY09\\Lib\\site-packages\\seaborn\\_oldcore.py:1119: FutureWarning: use_inf_as_na option is deprecated and will be removed in a future version. Convert inf values to NaN before operating instead.\n",
      "  with pd.option_context('mode.use_inf_as_na', True):\n",
      "c:\\Users\\sacha\\anaconda3\\envs\\SY09\\Lib\\site-packages\\seaborn\\_oldcore.py:1119: FutureWarning: use_inf_as_na option is deprecated and will be removed in a future version. Convert inf values to NaN before operating instead.\n",
      "  with pd.option_context('mode.use_inf_as_na', True):\n"
     ]
    },
    {
     "data": {
      "image/png": "[encoded data removed]",
      "text/plain": [
       "<Figure size 1000x600 with 1 Axes>"
      ]
     },
     "metadata": {},
     "output_type": "display_data"
    },
    {
     "name": "stdout",
     "output_type": "stream",
     "text": [
      "Nombre de personnes avec des charges < 10000 :  711\n",
      "Nombre de personnes avec des charges entre 10000 et 30000 :  463\n",
      "Nombre de personnes avec des charges > 30000 :  162\n"
     ]
    }
   ],
   "source": [
    "plt.figure(figsize=(10, 6))\n",
    "sns.histplot(df[df[\"charges\"] < 10000][\"charges\"], color=\"blue\", bins=30)\n",
    "sns.histplot(df[(df[\"charges\"] >= 10000) & (df[\"charges\"] <= 30000)][\"charges\"], color=\"green\", bins=30)\n",
    "sns.histplot(df[df[\"charges\"] > 30000][\"charges\"], color=\"red\", bins=30)\n",
    "plt.xlabel(\"Charges\")\n",
    "plt.ylabel(\"Nombre de personnes\")\n",
    "plt.title(\"Histogramme des charges\")\n",
    "plt.show()\n",
    "# On affiche le nombre de chaque groupe\n",
    "print(\"Nombre de personnes avec des charges < 10000 : \", len(df[df[\"charges\"] < 10000]))\n",
    "print(\"Nombre de personnes avec des charges entre 10000 et 30000 : \", len(df[(df[\"charges\"] >= 10000) & (df[\"charges\"] <= 30000)]))\n",
    "print(\"Nombre de personnes avec des charges > 30000 : \", len(df[df[\"charges\"] > 30000]))"
   ]
  },
  {
   "cell_type": "code",
   "execution_count": 5,
   "metadata": {},
   "outputs": [],
   "source": [
    "# On tente de prédire les coûts d'assurance en fonction des autres variables\n",
    "# En trois groupes : 0-10000, 10000-30000, >30000\n",
    "df['charges_group'] = pd.cut(df['charges'], bins=[0, 10000, 30000, np.inf], labels=[0, 1, 2])\n",
    "\n",
    "# On enlève la variable charges\n",
    "df = df.drop(columns=['charges'])"
   ]
  },
  {
   "cell_type": "code",
   "execution_count": 8,
   "metadata": {},
   "outputs": [
    {
     "data": {
      "text/html": [
       "<style>#sk-container-id-2 {color: black;}#sk-container-id-2 pre{padding: 0;}#sk-container-id-2 div.sk-toggleable {background-color: white;}#sk-container-id-2 label.sk-toggleable__label {cursor: pointer;display: block;width: 100%;margin-bottom: 0;padding: 0.3em;box-sizing: border-box;text-align: center;}#sk-container-id-2 label.sk-toggleable__label-arrow:before {content: \"▸\";float: left;margin-right: 0.25em;color: #696969;}#sk-container-id-2 label.sk-toggleable__label-arrow:hover:before {color: black;}#sk-container-id-2 div.sk-estimator:hover label.sk-toggleable__label-arrow:before {color: black;}#sk-container-id-2 div.sk-toggleable__content {max-height: 0;max-width: 0;overflow: hidden;text-align: left;background-color: #f0f8ff;}#sk-container-id-2 div.sk-toggleable__content pre {margin: 0.2em;color: black;border-radius: 0.25em;background-color: #f0f8ff;}#sk-container-id-2 input.sk-toggleable__control:checked~div.sk-toggleable__content {max-height: 200px;max-width: 100%;overflow: auto;}#sk-container-id-2 input.sk-toggleable__control:checked~label.sk-toggleable__label-arrow:before {content: \"▾\";}#sk-container-id-2 div.sk-estimator input.sk-toggleable__control:checked~label.sk-toggleable__label {background-color: #d4ebff;}#sk-container-id-2 div.sk-label input.sk-toggleable__control:checked~label.sk-toggleable__label {background-color: #d4ebff;}#sk-container-id-2 input.sk-hidden--visually {border: 0;clip: rect(1px 1px 1px 1px);clip: rect(1px, 1px, 1px, 1px);height: 1px;margin: -1px;overflow: hidden;padding: 0;position: absolute;width: 1px;}#sk-container-id-2 div.sk-estimator {font-family: monospace;background-color: #f0f8ff;border: 1px dotted black;border-radius: 0.25em;box-sizing: border-box;margin-bottom: 0.5em;}#sk-container-id-2 div.sk-estimator:hover {background-color: #d4ebff;}#sk-container-id-2 div.sk-parallel-item::after {content: \"\";width: 100%;border-bottom: 1px solid gray;flex-grow: 1;}#sk-container-id-2 div.sk-label:hover label.sk-toggleable__label {background-color: #d4ebff;}#sk-container-id-2 div.sk-serial::before {content: \"\";position: absolute;border-left: 1px solid gray;box-sizing: border-box;top: 0;bottom: 0;left: 50%;z-index: 0;}#sk-container-id-2 div.sk-serial {display: flex;flex-direction: column;align-items: center;background-color: white;padding-right: 0.2em;padding-left: 0.2em;position: relative;}#sk-container-id-2 div.sk-item {position: relative;z-index: 1;}#sk-container-id-2 div.sk-parallel {display: flex;align-items: stretch;justify-content: center;background-color: white;position: relative;}#sk-container-id-2 div.sk-item::before, #sk-container-id-2 div.sk-parallel-item::before {content: \"\";position: absolute;border-left: 1px solid gray;box-sizing: border-box;top: 0;bottom: 0;left: 50%;z-index: -1;}#sk-container-id-2 div.sk-parallel-item {display: flex;flex-direction: column;z-index: 1;position: relative;background-color: white;}#sk-container-id-2 div.sk-parallel-item:first-child::after {align-self: flex-end;width: 50%;}#sk-container-id-2 div.sk-parallel-item:last-child::after {align-self: flex-start;width: 50%;}#sk-container-id-2 div.sk-parallel-item:only-child::after {width: 0;}#sk-container-id-2 div.sk-dashed-wrapped {border: 1px dashed gray;margin: 0 0.4em 0.5em 0.4em;box-sizing: border-box;padding-bottom: 0.4em;background-color: white;}#sk-container-id-2 div.sk-label label {font-family: monospace;font-weight: bold;display: inline-block;line-height: 1.2em;}#sk-container-id-2 div.sk-label-container {text-align: center;}#sk-container-id-2 div.sk-container {/* jupyter's `normalize.less` sets `[hidden] { display: none; }` but bootstrap.min.css set `[hidden] { display: none !important; }` so we also need the `!important` here to be able to override the default hidden behavior on the sphinx rendered scikit-learn.org. See: https://github.com/scikit-learn/scikit-learn/issues/21755 */display: inline-block !important;position: relative;}#sk-container-id-2 div.sk-text-repr-fallback {display: none;}</style><div id=\"sk-container-id-2\" class=\"sk-top-container\"><div class=\"sk-text-repr-fallback\"><pre>KNeighborsClassifier()</pre><b>In a Jupyter environment, please rerun this cell to show the HTML representation or trust the notebook. <br />On GitHub, the HTML representation is unable to render, please try loading this page with nbviewer.org.</b></div><div class=\"sk-container\" hidden><div class=\"sk-item\"><div class=\"sk-estimator sk-toggleable\"><input class=\"sk-toggleable__control sk-hidden--visually\" id=\"sk-estimator-id-2\" type=\"checkbox\" checked><label for=\"sk-estimator-id-2\" class=\"sk-toggleable__label sk-toggleable__label-arrow\">KNeighborsClassifier</label><div class=\"sk-toggleable__content\"><pre>KNeighborsClassifier()</pre></div></div></div></div></div>"
      ],
      "text/plain": [
       "KNeighborsClassifier()"
      ]
     },
     "execution_count": 8,
     "metadata": {},
     "output_type": "execute_result"
    }
   ],
   "source": [
    "# Nearest kneighbors classifier\n",
    "from sklearn.neighbors import KNeighborsClassifier\n",
    "\n",
    "X = df.drop(columns=['charges_group'])\n",
    "y = df['charges_group']\n",
    "\n",
    "from sklearn.model_selection import train_test_split\n",
    "\n",
    "X_train, X_test, y_train, y_test = train_test_split(X, y, test_size=0.2)\n",
    "\n",
    "knn = KNeighborsClassifier()\n",
    "knn.fit(X_train, y_train)"
   ]
  },
  {
   "cell_type": "code",
   "execution_count": 9,
   "metadata": {},
   "outputs": [
    {
     "name": "stdout",
     "output_type": "stream",
     "text": [
      "0.7723880597014925\n"
     ]
    }
   ],
   "source": [
    "# On prédit les valeurs\n",
    "y_pred = knn.predict(X_test)\n",
    "\n",
    "from sklearn.metrics import accuracy_score\n",
    "\n",
    "print(accuracy_score(y_test, y_pred))"
   ]
  },
  {
   "cell_type": "code",
   "execution_count": 10,
   "metadata": {},
   "outputs": [
    {
     "data": {
      "text/plain": [
       "(array([0, 1, 2], dtype=int64), array([183,  77,   8], dtype=int64))"
      ]
     },
     "execution_count": 10,
     "metadata": {},
     "output_type": "execute_result"
    }
   ],
   "source": [
    "# On regarde les valeurs prédites pour être sûr qu'il ne prédit pas toujours la même chose\n",
    "np.unique(y_pred, return_counts=True)"
   ]
  },
  {
   "cell_type": "code",
   "execution_count": 20,
   "metadata": {},
   "outputs": [
    {
     "name": "stderr",
     "output_type": "stream",
     "text": [
      "100%|██████████| 6/6 [00:01<00:00,  5.56it/s]\n"
     ]
    },
    {
     "data": {
      "image/png": "[encoded data removed]",
      "text/plain": [
       "<Figure size 1000x600 with 1 Axes>"
      ]
     },
     "metadata": {},
     "output_type": "display_data"
    },
    {
     "name": "stdout",
     "output_type": "stream",
     "text": [
      "[['AdaBoost' '0.667910447761194']\n",
      " ['SVC' '0.7388059701492538']\n",
      " ['KNeighbors' '0.7723880597014925']\n",
      " ['DecisionTree' '0.8917910447761194']\n",
      " ['GradientBoosting' '0.917910447761194']\n",
      " ['RandomForest' '0.9253731343283582']]\n"
     ]
    }
   ],
   "source": [
    "# On compare différents algorithmes de classification\n",
    "from sklearn.svm import SVC\n",
    "from sklearn.ensemble import RandomForestClassifier\n",
    "from sklearn.tree import DecisionTreeClassifier\n",
    "from sklearn.ensemble import AdaBoostClassifier\n",
    "from sklearn.ensemble import GradientBoostingClassifier\n",
    "\n",
    "models = {\n",
    "    \"AdaBoost\": AdaBoostClassifier(),\n",
    "    \"DecisionTree\": DecisionTreeClassifier(),\n",
    "    \"GradientBoosting\": GradientBoostingClassifier(),\n",
    "    \"KNeighbors\": KNeighborsClassifier(),\n",
    "    \"RandomForest\": RandomForestClassifier(),\n",
    "    \"SVC\": SVC()\n",
    "}   \n",
    "\n",
    "from tqdm import tqdm\n",
    "\n",
    "results = []\n",
    "for model_name, model in tqdm(models.items()):\n",
    "    model.fit(X_train, y_train)\n",
    "    y_pred = model.predict(X_test)\n",
    "    accuracy = accuracy_score(y_test, y_pred)\n",
    "    results.append((model_name, accuracy))\n",
    "    \n",
    "results = np.array(results)\n",
    "results = results[np.argsort(results[:, 1])]\n",
    "plt.figure(figsize=(10, 6))\n",
    "plt.bar(results[:, 0], results[:, 1].astype(float))\n",
    "plt.xlabel(\"Modèle\")\n",
    "plt.ylabel(\"Accuracy\")\n",
    "plt.title(\"Accuracy des différents modèles\")\n",
    "plt.show()\n",
    "\n",
    "print(results)"
   ]
  },
  {
   "cell_type": "code",
   "execution_count": 21,
   "metadata": {},
   "outputs": [
    {
     "data": {
      "text/plain": [
       "(array([0, 1, 2], dtype=int64), array([154,  90,  24], dtype=int64))"
      ]
     },
     "execution_count": 21,
     "metadata": {},
     "output_type": "execute_result"
    }
   ],
   "source": [
    "# On regarque ce que réponds le RandomForestClassifier\n",
    "model = RandomForestClassifier()\n",
    "model.fit(X_train, y_train)\n",
    "y_pred = model.predict(X_test)\n",
    "np.unique(y_pred, return_counts=True)"
   ]
  },
  {
   "cell_type": "code",
   "execution_count": 22,
   "metadata": {},
   "outputs": [
    {
     "name": "stdout",
     "output_type": "stream",
     "text": [
      "Fitting 3 folds for each of 100 candidates, totalling 300 fits\n"
     ]
    },
    {
     "name": "stderr",
     "output_type": "stream",
     "text": [
      "c:\\Users\\sacha\\anaconda3\\envs\\SY09\\Lib\\site-packages\\sklearn\\model_selection\\_validation.py:425: FitFailedWarning: \n",
      "162 fits failed out of a total of 300.\n",
      "The score on these train-test partitions for these parameters will be set to nan.\n",
      "If these failures are not expected, you can try to debug them by setting error_score='raise'.\n",
      "\n",
      "Below are more details about the failures:\n",
      "--------------------------------------------------------------------------------\n",
      "73 fits failed with the following error:\n",
      "Traceback (most recent call last):\n",
      "  File \"c:\\Users\\sacha\\anaconda3\\envs\\SY09\\Lib\\site-packages\\sklearn\\model_selection\\_validation.py\", line 732, in _fit_and_score\n",
      "    estimator.fit(X_train, y_train, **fit_params)\n",
      "  File \"c:\\Users\\sacha\\anaconda3\\envs\\SY09\\Lib\\site-packages\\sklearn\\base.py\", line 1144, in wrapper\n",
      "    estimator._validate_params()\n",
      "  File \"c:\\Users\\sacha\\anaconda3\\envs\\SY09\\Lib\\site-packages\\sklearn\\base.py\", line 637, in _validate_params\n",
      "    validate_parameter_constraints(\n",
      "  File \"c:\\Users\\sacha\\anaconda3\\envs\\SY09\\Lib\\site-packages\\sklearn\\utils\\_param_validation.py\", line 95, in validate_parameter_constraints\n",
      "    raise InvalidParameterError(\n",
      "sklearn.utils._param_validation.InvalidParameterError: The 'max_features' parameter of RandomForestClassifier must be an int in the range [1, inf), a float in the range (0.0, 1.0], a str among {'sqrt', 'log2'} or None. Got 'auto' instead.\n",
      "\n",
      "--------------------------------------------------------------------------------\n",
      "23 fits failed with the following error:\n",
      "Traceback (most recent call last):\n",
      "  File \"c:\\Users\\sacha\\anaconda3\\envs\\SY09\\Lib\\site-packages\\sklearn\\model_selection\\_validation.py\", line 732, in _fit_and_score\n",
      "    estimator.fit(X_train, y_train, **fit_params)\n",
      "  File \"c:\\Users\\sacha\\anaconda3\\envs\\SY09\\Lib\\site-packages\\sklearn\\base.py\", line 1144, in wrapper\n",
      "    estimator._validate_params()\n",
      "  File \"c:\\Users\\sacha\\anaconda3\\envs\\SY09\\Lib\\site-packages\\sklearn\\base.py\", line 637, in _validate_params\n",
      "    validate_parameter_constraints(\n",
      "  File \"c:\\Users\\sacha\\anaconda3\\envs\\SY09\\Lib\\site-packages\\sklearn\\utils\\_param_validation.py\", line 95, in validate_parameter_constraints\n",
      "    raise InvalidParameterError(\n",
      "sklearn.utils._param_validation.InvalidParameterError: The 'max_features' parameter of RandomForestClassifier must be an int in the range [1, inf), a float in the range (0.0, 1.0], a str among {'log2', 'sqrt'} or None. Got 'auto' instead.\n",
      "\n",
      "--------------------------------------------------------------------------------\n",
      "51 fits failed with the following error:\n",
      "Traceback (most recent call last):\n",
      "  File \"c:\\Users\\sacha\\anaconda3\\envs\\SY09\\Lib\\site-packages\\sklearn\\model_selection\\_validation.py\", line 732, in _fit_and_score\n",
      "    estimator.fit(X_train, y_train, **fit_params)\n",
      "  File \"c:\\Users\\sacha\\anaconda3\\envs\\SY09\\Lib\\site-packages\\sklearn\\base.py\", line 1144, in wrapper\n",
      "    estimator._validate_params()\n",
      "  File \"c:\\Users\\sacha\\anaconda3\\envs\\SY09\\Lib\\site-packages\\sklearn\\base.py\", line 637, in _validate_params\n",
      "    validate_parameter_constraints(\n",
      "  File \"c:\\Users\\sacha\\anaconda3\\envs\\SY09\\Lib\\site-packages\\sklearn\\utils\\_param_validation.py\", line 95, in validate_parameter_constraints\n",
      "    raise InvalidParameterError(\n",
      "sklearn.utils._param_validation.InvalidParameterError: The 'max_features' parameter of RandomForestClassifier must be an int in the range [1, inf), a float in the range (0.0, 1.0], a str among {'sqrt', 'log2'} or None. Got 'int' instead.\n",
      "\n",
      "--------------------------------------------------------------------------------\n",
      "15 fits failed with the following error:\n",
      "Traceback (most recent call last):\n",
      "  File \"c:\\Users\\sacha\\anaconda3\\envs\\SY09\\Lib\\site-packages\\sklearn\\model_selection\\_validation.py\", line 732, in _fit_and_score\n",
      "    estimator.fit(X_train, y_train, **fit_params)\n",
      "  File \"c:\\Users\\sacha\\anaconda3\\envs\\SY09\\Lib\\site-packages\\sklearn\\base.py\", line 1144, in wrapper\n",
      "    estimator._validate_params()\n",
      "  File \"c:\\Users\\sacha\\anaconda3\\envs\\SY09\\Lib\\site-packages\\sklearn\\base.py\", line 637, in _validate_params\n",
      "    validate_parameter_constraints(\n",
      "  File \"c:\\Users\\sacha\\anaconda3\\envs\\SY09\\Lib\\site-packages\\sklearn\\utils\\_param_validation.py\", line 95, in validate_parameter_constraints\n",
      "    raise InvalidParameterError(\n",
      "sklearn.utils._param_validation.InvalidParameterError: The 'max_features' parameter of RandomForestClassifier must be an int in the range [1, inf), a float in the range (0.0, 1.0], a str among {'log2', 'sqrt'} or None. Got 'int' instead.\n",
      "\n",
      "  warnings.warn(some_fits_failed_message, FitFailedWarning)\n",
      "c:\\Users\\sacha\\anaconda3\\envs\\SY09\\Lib\\site-packages\\sklearn\\model_selection\\_search.py:976: UserWarning: One or more of the test scores are non-finite: [0.91385768 0.91385768 0.91479401 0.91292135 0.91104869 0.91292135\n",
      "        nan        nan 0.90917603 0.91292135 0.91385768 0.91385768\n",
      " 0.91385768 0.91385768 0.91385768 0.91292135 0.91385768        nan\n",
      " 0.91198502        nan 0.91198502 0.91666667        nan        nan\n",
      "        nan        nan        nan        nan        nan        nan\n",
      "        nan 0.91198502        nan 0.91292135 0.91198502        nan\n",
      "        nan        nan        nan        nan 0.91292135        nan\n",
      " 0.91385768 0.91292135 0.91666667 0.90917603 0.91292135        nan\n",
      " 0.91198502 0.91104869        nan 0.91385768 0.91198502 0.91292135\n",
      "        nan        nan 0.91479401        nan        nan        nan\n",
      " 0.9082397  0.91385768        nan        nan        nan        nan\n",
      " 0.91198502 0.91385768        nan        nan        nan        nan\n",
      "        nan 0.917603   0.91479401 0.91198502        nan        nan\n",
      " 0.91385768        nan        nan        nan        nan        nan\n",
      " 0.91198502        nan        nan        nan        nan 0.91198502\n",
      " 0.91479401        nan        nan        nan 0.91385768        nan\n",
      " 0.90636704        nan        nan        nan]\n",
      "  warnings.warn(\n"
     ]
    },
    {
     "name": "stdout",
     "output_type": "stream",
     "text": [
      "{'n_estimators': 144, 'min_samples_split': 5, 'min_samples_leaf': 1, 'max_features': 'log2', 'max_depth': 110}\n"
     ]
    }
   ],
   "source": [
    "# On peut voir que le RandomForestClassifier est le meilleur modèle pour prédire les coûts d'assurance\n",
    "# On va maintenant faire du random grid search pour trouver les meilleurs hyperparamètres\n",
    "from sklearn.model_selection import RandomizedSearchCV\n",
    "from tqdm import tqdm\n",
    "\n",
    "n_estimators = [int(x) for x in np.linspace(start=100, stop=500, num=10)]\n",
    "max_depth = [int(x) for x in np.linspace(10, 110, num=11)] + [None]\n",
    "min_samples_split = [2, 5, 10]\n",
    "min_samples_leaf = [1, 2, 4]\n",
    "max_features = ['log2', 'sqrt', 'int', 'auto']\n",
    "\n",
    "random_grid = {'n_estimators': n_estimators,\n",
    "                'max_features': max_features,\n",
    "                'max_depth': max_depth,\n",
    "                'min_samples_split': min_samples_split,\n",
    "                'min_samples_leaf': min_samples_leaf}\n",
    "\n",
    "rf = RandomForestClassifier()\n",
    "rf_random = RandomizedSearchCV(estimator=rf, param_distributions=random_grid, n_iter=100, cv=3, verbose=2, random_state=42, n_jobs=-1)\n",
    "rf_random.fit(X_train, y_train)\n",
    "\n",
    "print(rf_random.best_params_)"
   ]
  },
  {
   "cell_type": "markdown",
   "metadata": {},
   "source": [
    "Meilleurs paramètres pour le modèle de régression logistique : \n",
    "{'n_estimators': 500, 'min_samples_split': 5, 'min_samples_leaf': 1, 'max_features': 'sqrt', 'max_depth': 40}"
   ]
  },
  {
   "cell_type": "code",
   "execution_count": 23,
   "metadata": {},
   "outputs": [
    {
     "name": "stderr",
     "output_type": "stream",
     "text": [
      "c:\\Users\\sacha\\anaconda3\\envs\\SY09\\Lib\\site-packages\\sklearn\\model_selection\\_validation.py:425: FitFailedWarning: \n",
      "360 fits failed out of a total of 1080.\n",
      "The score on these train-test partitions for these parameters will be set to nan.\n",
      "If these failures are not expected, you can try to debug them by setting error_score='raise'.\n",
      "\n",
      "Below are more details about the failures:\n",
      "--------------------------------------------------------------------------------\n",
      "360 fits failed with the following error:\n",
      "Traceback (most recent call last):\n",
      "  File \"c:\\Users\\sacha\\anaconda3\\envs\\SY09\\Lib\\site-packages\\sklearn\\model_selection\\_validation.py\", line 732, in _fit_and_score\n",
      "    estimator.fit(X_train, y_train, **fit_params)\n",
      "  File \"c:\\Users\\sacha\\anaconda3\\envs\\SY09\\Lib\\site-packages\\sklearn\\base.py\", line 1144, in wrapper\n",
      "    estimator._validate_params()\n",
      "  File \"c:\\Users\\sacha\\anaconda3\\envs\\SY09\\Lib\\site-packages\\sklearn\\base.py\", line 637, in _validate_params\n",
      "    validate_parameter_constraints(\n",
      "  File \"c:\\Users\\sacha\\anaconda3\\envs\\SY09\\Lib\\site-packages\\sklearn\\utils\\_param_validation.py\", line 95, in validate_parameter_constraints\n",
      "    raise InvalidParameterError(\n",
      "sklearn.utils._param_validation.InvalidParameterError: The 'min_samples_leaf' parameter of RandomForestClassifier must be an int in the range [1, inf) or a float in the range (0.0, 1.0). Got 0 instead.\n",
      "\n",
      "  warnings.warn(some_fits_failed_message, FitFailedWarning)\n",
      "c:\\Users\\sacha\\anaconda3\\envs\\SY09\\Lib\\site-packages\\sklearn\\model_selection\\_search.py:976: UserWarning: One or more of the test scores are non-finite: [       nan        nan        nan        nan        nan        nan\n",
      "        nan        nan        nan        nan        nan        nan\n",
      "        nan        nan        nan        nan        nan        nan\n",
      "        nan        nan        nan        nan        nan        nan\n",
      "        nan        nan        nan        nan        nan        nan\n",
      " 0.91292135 0.91573034 0.91479401 0.91292135 0.90917603 0.91479401\n",
      " 0.91385768 0.91011236 0.91573034 0.91385768 0.91853933 0.91666667\n",
      " 0.91573034 0.91479401 0.91666667 0.91104869 0.91385768 0.91385768\n",
      " 0.91479401 0.91385768 0.91573034 0.91385768 0.917603   0.91292135\n",
      " 0.91104869 0.91198502 0.91385768 0.91479401 0.91573034 0.91479401\n",
      " 0.91573034 0.91385768 0.91479401 0.91198502 0.91573034 0.917603\n",
      " 0.91666667 0.91385768 0.91385768 0.91104869 0.91666667 0.91479401\n",
      " 0.91104869 0.91666667 0.91385768 0.91479401 0.91198502 0.91479401\n",
      " 0.91104869 0.91198502 0.91198502 0.91198502 0.91666667 0.91198502\n",
      " 0.91292135 0.91385768 0.91292135 0.91292135 0.91573034 0.91385768\n",
      "        nan        nan        nan        nan        nan        nan\n",
      "        nan        nan        nan        nan        nan        nan\n",
      "        nan        nan        nan        nan        nan        nan\n",
      "        nan        nan        nan        nan        nan        nan\n",
      "        nan        nan        nan        nan        nan        nan\n",
      " 0.91198502 0.91198502 0.91385768 0.91479401 0.91573034 0.91198502\n",
      " 0.91573034 0.91011236 0.91666667 0.91385768 0.91479401 0.91573034\n",
      " 0.91479401 0.91479401 0.91853933 0.91292135 0.91573034 0.91666667\n",
      " 0.91198502 0.91666667 0.91479401 0.91573034 0.91292135 0.91479401\n",
      " 0.91479401 0.91573034 0.91573034 0.91385768 0.91573034 0.91573034\n",
      " 0.91292135 0.91385768 0.91479401 0.91666667 0.91385768 0.91479401\n",
      " 0.91666667 0.91479401 0.91292135 0.91479401 0.91198502 0.91385768\n",
      " 0.91292135 0.91385768 0.91666667 0.91385768 0.91292135 0.91385768\n",
      " 0.91385768 0.91666667 0.91385768 0.917603   0.91853933 0.91385768\n",
      " 0.91479401 0.91292135 0.91385768 0.91479401 0.917603   0.91573034\n",
      "        nan        nan        nan        nan        nan        nan\n",
      "        nan        nan        nan        nan        nan        nan\n",
      "        nan        nan        nan        nan        nan        nan\n",
      "        nan        nan        nan        nan        nan        nan\n",
      "        nan        nan        nan        nan        nan        nan\n",
      " 0.91666667 0.91104869 0.91573034 0.91104869 0.91479401 0.91479401\n",
      " 0.91292135 0.91479401 0.91479401 0.91292135 0.91104869 0.91385768\n",
      " 0.91573034 0.91104869 0.91573034 0.91385768 0.91479401 0.91479401\n",
      " 0.91479401 0.91385768 0.91666667 0.91385768 0.91573034 0.91666667\n",
      " 0.91479401 0.91385768 0.91385768 0.917603   0.91666667 0.91853933\n",
      " 0.91573034 0.91479401 0.91479401 0.91573034 0.91385768 0.917603\n",
      " 0.91385768 0.91198502 0.91385768 0.91666667 0.91198502 0.91292135\n",
      " 0.91104869 0.91385768 0.91479401 0.91479401 0.91385768 0.91385768\n",
      " 0.91198502 0.91479401 0.91573034 0.91573034 0.91104869 0.91198502\n",
      " 0.91573034 0.91666667 0.91385768 0.91385768 0.91666667 0.91198502\n",
      "        nan        nan        nan        nan        nan        nan\n",
      "        nan        nan        nan        nan        nan        nan\n",
      "        nan        nan        nan        nan        nan        nan\n",
      "        nan        nan        nan        nan        nan        nan\n",
      "        nan        nan        nan        nan        nan        nan\n",
      " 0.91385768 0.917603   0.91479401 0.91479401 0.91292135 0.91479401\n",
      " 0.91385768 0.91385768 0.917603   0.91104869 0.91385768 0.91479401\n",
      " 0.91104869 0.91385768 0.91198502 0.917603   0.91666667 0.91292135\n",
      " 0.91292135 0.91573034 0.91292135 0.91385768 0.91666667 0.91479401\n",
      " 0.91666667 0.91573034 0.91198502 0.91385768 0.91479401 0.91573034\n",
      " 0.90917603 0.91292135 0.91011236 0.91198502 0.917603   0.91292135\n",
      " 0.91385768 0.91573034 0.91479401 0.91666667 0.91385768 0.91385768\n",
      " 0.91198502 0.91292135 0.91011236 0.91479401 0.91666667 0.91479401\n",
      " 0.91573034 0.91292135 0.91479401 0.91292135 0.91385768 0.91385768\n",
      " 0.91292135 0.91292135 0.91479401 0.91292135 0.91666667 0.91292135]\n",
      "  warnings.warn(\n"
     ]
    },
    {
     "name": "stdout",
     "output_type": "stream",
     "text": [
      "{'max_depth': 100, 'max_features': 'log2', 'min_samples_leaf': 1, 'min_samples_split': 6, 'n_estimators': 194}\n"
     ]
    },
    {
     "data": {
      "text/plain": [
       "0.9291044776119403"
      ]
     },
     "execution_count": 23,
     "metadata": {},
     "output_type": "execute_result"
    }
   ],
   "source": [
    "# Grid search sur les meilleurs hyperparamètres\n",
    "from sklearn.model_selection import GridSearchCV\n",
    "\n",
    "param_grid = {\n",
    "    'n_estimators': np.linspace(rf_random.best_params_['n_estimators'] - 50, rf_random.best_params_['n_estimators'] + 50, 10).astype(int),\n",
    "    'max_features': [rf_random.best_params_['max_features']],\n",
    "    'max_depth': [rf_random.best_params_['max_depth'] + 10, rf_random.best_params_['max_depth'], rf_random.best_params_['max_depth'] - 10] + [None],\n",
    "    'min_samples_split': [rf_random.best_params_['min_samples_split'] - 1, rf_random.best_params_['min_samples_split'], rf_random.best_params_['min_samples_split'] + 1],\n",
    "    'min_samples_leaf': [rf_random.best_params_['min_samples_leaf'] - 1, rf_random.best_params_['min_samples_leaf'], rf_random.best_params_['min_samples_leaf'] + 1]\n",
    "}\n",
    "\n",
    "rf = RandomForestClassifier()\n",
    "rf_grid = GridSearchCV(estimator=rf, param_grid=param_grid, cv=3, n_jobs=-1)\n",
    "rf_grid.fit(X_train, y_train)\n",
    "\n",
    "print(rf_grid.best_params_)\n",
    "y_pred = rf_grid.predict(X_test)\n",
    "accuracy_score(y_test, y_pred)"
   ]
  },
  {
   "cell_type": "code",
   "execution_count": 24,
   "metadata": {},
   "outputs": [
    {
     "name": "stdout",
     "output_type": "stream",
     "text": [
      "0.9216417910447762\n"
     ]
    }
   ],
   "source": [
    "model = RandomForestClassifier(**rf_grid.best_params_)\n",
    "model.fit(X_train, y_train)\n",
    "y_pred = model.predict(X_test)\n",
    "print(accuracy_score(y_test, y_pred))"
   ]
  },
  {
   "cell_type": "code",
   "execution_count": 34,
   "metadata": {},
   "outputs": [],
   "source": [
    "# On tente de prédire les coûts d'assurance en fonction des autres variables pour un individu saisit par l'utilisateur\n",
    "age = int(input(\"Entrez l'âge de la personne : \"))\n",
    "sex = input(\"Entrez le sexe de la personne (h : Homme, f : Femme) : \") == \"h\"\n",
    "smoker = input(\"Est-ce que la personne fume (o : Oui, n : Non) : \") == \"o\"\n",
    "bmi = float(input(\"Entrez l'IMC de la personne : \"))\n",
    "children = int(input(\"Entrez le nombre d'enfants de la personne : \"))\n",
    "region = input(\"Entrez la région de la personne (ne : Northeast, nw : Northwest, se : Southeast, sw : Southwest) : \")"
   ]
  },
  {
   "cell_type": "code",
   "execution_count": 35,
   "metadata": {},
   "outputs": [
    {
     "data": {
      "text/html": [
       "<div>\n",
       "<style scoped>\n",
       "    .dataframe tbody tr th:only-of-type {\n",
       "        vertical-align: middle;\n",
       "    }\n",
       "\n",
       "    .dataframe tbody tr th {\n",
       "        vertical-align: top;\n",
       "    }\n",
       "\n",
       "    .dataframe thead th {\n",
       "        text-align: right;\n",
       "    }\n",
       "</style>\n",
       "<table border=\"1\" class=\"dataframe\">\n",
       "  <thead>\n",
       "    <tr style=\"text-align: right;\">\n",
       "      <th></th>\n",
       "      <th>age</th>\n",
       "      <th>sex</th>\n",
       "      <th>bmi</th>\n",
       "      <th>children</th>\n",
       "      <th>smoker</th>\n",
       "      <th>northeast</th>\n",
       "      <th>northwest</th>\n",
       "      <th>southeast</th>\n",
       "      <th>southwest</th>\n",
       "    </tr>\n",
       "  </thead>\n",
       "  <tbody>\n",
       "    <tr>\n",
       "      <th>0</th>\n",
       "      <td>23</td>\n",
       "      <td>True</td>\n",
       "      <td>40.0</td>\n",
       "      <td>0</td>\n",
       "      <td>False</td>\n",
       "      <td>False</td>\n",
       "      <td>True</td>\n",
       "      <td>False</td>\n",
       "      <td>False</td>\n",
       "    </tr>\n",
       "  </tbody>\n",
       "</table>\n",
       "</div>"
      ],
      "text/plain": [
       "   age   sex   bmi  children  smoker  northeast  northwest  southeast  \\\n",
       "0   23  True  40.0         0   False      False       True      False   \n",
       "\n",
       "   southwest  \n",
       "0      False  "
      ]
     },
     "execution_count": 35,
     "metadata": {},
     "output_type": "execute_result"
    }
   ],
   "source": [
    "data = {\n",
    "    'age': age,\n",
    "    'sex': sex,\n",
    "    'bmi': bmi,\n",
    "    'children': children,\n",
    "    'smoker': smoker,\n",
    "    'northeast': region == 'ne' or region == 'NE' or region == 'Ne' or region == 'nE',\n",
    "    'northwest': region == 'NW' or region == 'nw' or region == 'Nw' or region == 'nW',\n",
    "    'southeast': region == 'SE' or region == 'se' or region == 'Se' or region == 'sE',\n",
    "    'southwest': region == 'SW' or region == 'sw' or region == 'Sw' or region == 'sW'\n",
    "}\n",
    "\n",
    "input_df = pd.DataFrame(data, index=[0])\n",
    "input_df"
   ]
  },
  {
   "cell_type": "code",
   "execution_count": 36,
   "metadata": {},
   "outputs": [
    {
     "name": "stdout",
     "output_type": "stream",
     "text": [
      "Le coût d'assurance de cette personne est inférieur à 10000\n"
     ]
    }
   ],
   "source": [
    "# On prédit les coûts d'assurance\n",
    "model.predict(input_df)\n",
    "if model.predict(input_df) == 0:\n",
    "    print(\"Le coût d'assurance de cette personne est inférieur à 10000\")\n",
    "elif model.predict(input_df) == 1:\n",
    "    print(\"Le coût d'assurance de cette personne est compris entre 10000 et 30000\")\n",
    "else:\n",
    "    print(\"Le coût d'assurance de cette personne est supérieur à 30000\")"
   ]
  }
 ],
 "metadata": {
  "kernelspec": {
   "display_name": "SY09",
   "language": "python",
   "name": "python3"
  },
  "language_info": {
   "codemirror_mode": {
    "name": "ipython",
    "version": 3
   },
   "file_extension": ".py",
   "mimetype": "text/x-python",
   "name": "python",
   "nbconvert_exporter": "python",
   "pygments_lexer": "ipython3",
   "version": "3.12.2"
  }
 },
 "nbformat": 4,
 "nbformat_minor": 2
}

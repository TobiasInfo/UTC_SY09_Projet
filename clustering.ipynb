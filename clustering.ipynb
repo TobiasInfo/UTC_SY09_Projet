{
 "cells": [
  {
   "cell_type": "code",
   "execution_count": 43,
   "metadata": {},
   "outputs": [],
   "source": [
    "import pandas as pd\n",
    "import numpy as np\n",
    "import matplotlib.pyplot as plt\n",
    "import seaborn as sns\n",
    "from sklearn.preprocessing import LabelEncoder\n",
    "from sklearn.decomposition import PCA\n",
    "from sklearn.preprocessing import StandardScaler"
   ]
  },
  {
   "cell_type": "code",
   "execution_count": 48,
   "metadata": {},
   "outputs": [
    {
     "data": {
      "text/plain": [
       "age          0\n",
       "sex          0\n",
       "bmi          0\n",
       "children     0\n",
       "smoker       0\n",
       "charges_x    0\n",
       "northeast    0\n",
       "northwest    0\n",
       "southeast    0\n",
       "charges_y    0\n",
       "dtype: int64"
      ]
     },
     "execution_count": 48,
     "metadata": {},
     "output_type": "execute_result"
    }
   ],
   "source": [
    "df = pd.read_csv(\"data/medical_insurance_scaled.csv\", sep=\",\")\n",
    "df.head()\n",
    "df.isna().sum()"
   ]
  },
  {
   "cell_type": "code",
   "execution_count": 45,
   "metadata": {},
   "outputs": [
    {
     "data": {
      "text/plain": [
       "count     1335.000000\n",
       "mean     13275.682489\n",
       "std      12107.717986\n",
       "min       1121.873900\n",
       "25%       4746.698450\n",
       "50%       9386.161300\n",
       "75%      16622.107580\n",
       "max      63770.428010\n",
       "Name: charges, dtype: float64"
      ]
     },
     "execution_count": 45,
     "metadata": {},
     "output_type": "execute_result"
    }
   ],
   "source": [
    "df.charges.describe()"
   ]
  },
  {
   "cell_type": "code",
   "execution_count": 46,
   "metadata": {},
   "outputs": [],
   "source": [
    "# On tente de target (charges) par tranche de 5000 jusqu'à 100000 en les label encodant \n",
    "df['charges'] = pd.cut(df['charges'], bins=range(0, 100000, 5000), right=False)\n",
    "le = LabelEncoder()\n",
    "df['charges'] = le.fit_transform(df['charges'])"
   ]
  },
  {
   "cell_type": "code",
   "execution_count": 47,
   "metadata": {},
   "outputs": [
    {
     "data": {
      "text/plain": [
       "charges\n",
       "0     357\n",
       "1     353\n",
       "2     268\n",
       "3      85\n",
       "4      72\n",
       "7      54\n",
       "8      41\n",
       "5      38\n",
       "9      31\n",
       "6      29\n",
       "12      3\n",
       "10      2\n",
       "11      2\n",
       "13      1\n",
       "Name: count, dtype: int64"
      ]
     },
     "execution_count": 47,
     "metadata": {},
     "output_type": "execute_result"
    }
   ],
   "source": [
    "from sklearn.cluster import KMeans\n",
    "\n",
    "\n",
    "X = df.drop('charges', axis=1)\n",
    "y = df['charges']"
   ]
  }
 ],
 "metadata": {
  "kernelspec": {
   "display_name": "SY09",
   "language": "python",
   "name": "python3"
  },
  "language_info": {
   "codemirror_mode": {
    "name": "ipython",
    "version": 3
   },
   "file_extension": ".py",
   "mimetype": "text/x-python",
   "name": "python",
   "nbconvert_exporter": "python",
   "pygments_lexer": "ipython3",
   "version": "3.12.2"
  }
 },
 "nbformat": 4,
 "nbformat_minor": 2
}

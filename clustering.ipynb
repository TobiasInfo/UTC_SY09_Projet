{
 "cells": [
  {
   "cell_type": "code",
   "execution_count": 50,
   "metadata": {},
   "outputs": [],
   "source": [
    "import pandas as pd\n",
    "import numpy as np\n",
    "import matplotlib.pyplot as plt\n",
    "import seaborn as sns\n",
    "from sklearn.preprocessing import LabelEncoder\n",
    "from sklearn.decomposition import PCA\n",
    "from sklearn.preprocessing import StandardScaler"
   ]
  },
  {
   "cell_type": "code",
   "execution_count": 51,
   "metadata": {},
   "outputs": [
    {
     "data": {
      "text/html": [
       "<div>\n",
       "<style scoped>\n",
       "    .dataframe tbody tr th:only-of-type {\n",
       "        vertical-align: middle;\n",
       "    }\n",
       "\n",
       "    .dataframe tbody tr th {\n",
       "        vertical-align: top;\n",
       "    }\n",
       "\n",
       "    .dataframe thead th {\n",
       "        text-align: right;\n",
       "    }\n",
       "</style>\n",
       "<table border=\"1\" class=\"dataframe\">\n",
       "  <thead>\n",
       "    <tr style=\"text-align: right;\">\n",
       "      <th></th>\n",
       "      <th>age</th>\n",
       "      <th>sex</th>\n",
       "      <th>bmi</th>\n",
       "      <th>children</th>\n",
       "      <th>smoker</th>\n",
       "      <th>charges_x</th>\n",
       "      <th>northeast</th>\n",
       "      <th>northwest</th>\n",
       "      <th>southeast</th>\n",
       "      <th>charges_y</th>\n",
       "    </tr>\n",
       "  </thead>\n",
       "  <tbody>\n",
       "    <tr>\n",
       "      <th>0</th>\n",
       "      <td>-1.440016</td>\n",
       "      <td>-1.010535</td>\n",
       "      <td>-0.453197</td>\n",
       "      <td>-0.909856</td>\n",
       "      <td>1.973265</td>\n",
       "      <td>-0.565825</td>\n",
       "      <td>-0.565825</td>\n",
       "      <td>-0.610797</td>\n",
       "      <td>1.763737</td>\n",
       "      <td>16884.92400</td>\n",
       "    </tr>\n",
       "    <tr>\n",
       "      <th>1</th>\n",
       "      <td>-1.511283</td>\n",
       "      <td>0.989575</td>\n",
       "      <td>0.509049</td>\n",
       "      <td>-0.080117</td>\n",
       "      <td>-0.506774</td>\n",
       "      <td>-0.565825</td>\n",
       "      <td>-0.565825</td>\n",
       "      <td>1.637205</td>\n",
       "      <td>-0.566978</td>\n",
       "      <td>1725.55230</td>\n",
       "    </tr>\n",
       "    <tr>\n",
       "      <th>2</th>\n",
       "      <td>-0.798610</td>\n",
       "      <td>0.989575</td>\n",
       "      <td>0.382826</td>\n",
       "      <td>1.579361</td>\n",
       "      <td>-0.506774</td>\n",
       "      <td>-0.565825</td>\n",
       "      <td>-0.565825</td>\n",
       "      <td>1.637205</td>\n",
       "      <td>-0.566978</td>\n",
       "      <td>4449.46200</td>\n",
       "    </tr>\n",
       "    <tr>\n",
       "      <th>3</th>\n",
       "      <td>-0.442273</td>\n",
       "      <td>0.989575</td>\n",
       "      <td>-1.304793</td>\n",
       "      <td>-0.909856</td>\n",
       "      <td>-0.506774</td>\n",
       "      <td>-0.565825</td>\n",
       "      <td>1.767330</td>\n",
       "      <td>-0.610797</td>\n",
       "      <td>-0.566978</td>\n",
       "      <td>21984.47061</td>\n",
       "    </tr>\n",
       "    <tr>\n",
       "      <th>4</th>\n",
       "      <td>-0.513541</td>\n",
       "      <td>0.989575</td>\n",
       "      <td>-0.292550</td>\n",
       "      <td>-0.909856</td>\n",
       "      <td>-0.506774</td>\n",
       "      <td>-0.565825</td>\n",
       "      <td>1.767330</td>\n",
       "      <td>-0.610797</td>\n",
       "      <td>-0.566978</td>\n",
       "      <td>3866.85520</td>\n",
       "    </tr>\n",
       "  </tbody>\n",
       "</table>\n",
       "</div>"
      ],
      "text/plain": [
       "        age       sex       bmi  children    smoker  charges_x  northeast  \\\n",
       "0 -1.440016 -1.010535 -0.453197 -0.909856  1.973265  -0.565825  -0.565825   \n",
       "1 -1.511283  0.989575  0.509049 -0.080117 -0.506774  -0.565825  -0.565825   \n",
       "2 -0.798610  0.989575  0.382826  1.579361 -0.506774  -0.565825  -0.565825   \n",
       "3 -0.442273  0.989575 -1.304793 -0.909856 -0.506774  -0.565825   1.767330   \n",
       "4 -0.513541  0.989575 -0.292550 -0.909856 -0.506774  -0.565825   1.767330   \n",
       "\n",
       "   northwest  southeast    charges_y  \n",
       "0  -0.610797   1.763737  16884.92400  \n",
       "1   1.637205  -0.566978   1725.55230  \n",
       "2   1.637205  -0.566978   4449.46200  \n",
       "3  -0.610797  -0.566978  21984.47061  \n",
       "4  -0.610797  -0.566978   3866.85520  "
      ]
     },
     "execution_count": 51,
     "metadata": {},
     "output_type": "execute_result"
    }
   ],
   "source": [
    "df = pd.read_csv(\"data/medical_insurance_scaled.csv\", sep=\",\")\n",
    "df.head()"
   ]
  },
  {
   "cell_type": "code",
   "execution_count": 52,
   "metadata": {},
   "outputs": [
    {
     "ename": "AttributeError",
     "evalue": "'DataFrame' object has no attribute 'charges'",
     "output_type": "error",
     "traceback": [
      "\u001b[1;31m---------------------------------------------------------------------------\u001b[0m",
      "\u001b[1;31mAttributeError\u001b[0m                            Traceback (most recent call last)",
      "\u001b[1;32m~\\AppData\\Local\\Temp\\ipykernel_11528\\4075439174.py\u001b[0m in \u001b[0;36m?\u001b[1;34m()\u001b[0m\n\u001b[1;32m----> 1\u001b[1;33m \u001b[0mdf\u001b[0m\u001b[1;33m.\u001b[0m\u001b[0mcharges\u001b[0m\u001b[1;33m.\u001b[0m\u001b[0mdescribe\u001b[0m\u001b[1;33m(\u001b[0m\u001b[1;33m)\u001b[0m\u001b[1;33m\u001b[0m\u001b[1;33m\u001b[0m\u001b[0m\n\u001b[0m",
      "\u001b[1;32mc:\\Users\\sacha\\anaconda3\\envs\\SY09\\Lib\\site-packages\\pandas\\core\\generic.py\u001b[0m in \u001b[0;36m?\u001b[1;34m(self, name)\u001b[0m\n\u001b[0;32m   6292\u001b[0m             \u001b[1;32mand\u001b[0m \u001b[0mname\u001b[0m \u001b[1;32mnot\u001b[0m \u001b[1;32min\u001b[0m \u001b[0mself\u001b[0m\u001b[1;33m.\u001b[0m\u001b[0m_accessors\u001b[0m\u001b[1;33m\u001b[0m\u001b[1;33m\u001b[0m\u001b[0m\n\u001b[0;32m   6293\u001b[0m             \u001b[1;32mand\u001b[0m \u001b[0mself\u001b[0m\u001b[1;33m.\u001b[0m\u001b[0m_info_axis\u001b[0m\u001b[1;33m.\u001b[0m\u001b[0m_can_hold_identifiers_and_holds_name\u001b[0m\u001b[1;33m(\u001b[0m\u001b[0mname\u001b[0m\u001b[1;33m)\u001b[0m\u001b[1;33m\u001b[0m\u001b[1;33m\u001b[0m\u001b[0m\n\u001b[0;32m   6294\u001b[0m         \u001b[1;33m)\u001b[0m\u001b[1;33m:\u001b[0m\u001b[1;33m\u001b[0m\u001b[1;33m\u001b[0m\u001b[0m\n\u001b[0;32m   6295\u001b[0m             \u001b[1;32mreturn\u001b[0m \u001b[0mself\u001b[0m\u001b[1;33m[\u001b[0m\u001b[0mname\u001b[0m\u001b[1;33m]\u001b[0m\u001b[1;33m\u001b[0m\u001b[1;33m\u001b[0m\u001b[0m\n\u001b[1;32m-> 6296\u001b[1;33m         \u001b[1;32mreturn\u001b[0m \u001b[0mobject\u001b[0m\u001b[1;33m.\u001b[0m\u001b[0m__getattribute__\u001b[0m\u001b[1;33m(\u001b[0m\u001b[0mself\u001b[0m\u001b[1;33m,\u001b[0m \u001b[0mname\u001b[0m\u001b[1;33m)\u001b[0m\u001b[1;33m\u001b[0m\u001b[1;33m\u001b[0m\u001b[0m\n\u001b[0m",
      "\u001b[1;31mAttributeError\u001b[0m: 'DataFrame' object has no attribute 'charges'"
     ]
    }
   ],
   "source": [
    "df.charges.describe()"
   ]
  },
  {
   "cell_type": "code",
   "execution_count": null,
   "metadata": {},
   "outputs": [],
   "source": [
    "# On tente de target (charges) par tranche de 5000 jusqu'à 100000 en les label encodant \n",
    "df['charges'] = pd.cut(df['charges'], bins=range(0, 100000, 5000), right=False)\n",
    "le = LabelEncoder()\n",
    "df['charges'] = le.fit_transform(df['charges'])"
   ]
  },
  {
   "cell_type": "code",
   "execution_count": null,
   "metadata": {},
   "outputs": [
    {
     "data": {
      "text/plain": [
       "charges\n",
       "0     357\n",
       "1     353\n",
       "2     268\n",
       "3      85\n",
       "4      72\n",
       "7      54\n",
       "8      41\n",
       "5      38\n",
       "9      31\n",
       "6      29\n",
       "12      3\n",
       "10      2\n",
       "11      2\n",
       "13      1\n",
       "Name: count, dtype: int64"
      ]
     },
     "execution_count": 47,
     "metadata": {},
     "output_type": "execute_result"
    }
   ],
   "source": [
    "from sklearn.cluster import KMeans\n",
    "\n",
    "\n",
    "X = df.drop('charges', axis=1)\n",
    "y = df['charges']"
   ]
  }
 ],
 "metadata": {
  "kernelspec": {
   "display_name": "SY09",
   "language": "python",
   "name": "python3"
  },
  "language_info": {
   "codemirror_mode": {
    "name": "ipython",
    "version": 3
   },
   "file_extension": ".py",
   "mimetype": "text/x-python",
   "name": "python",
   "nbconvert_exporter": "python",
   "pygments_lexer": "ipython3",
   "version": "3.12.2"
  }
 },
 "nbformat": 4,
 "nbformat_minor": 2
}
